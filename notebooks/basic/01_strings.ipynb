{
  "cells": [
    {
      "cell_type": "markdown",
      "metadata": {
        "id": "d-lEH7XP3HSi"
      },
      "source": [
        "# [Strings](https://docs.python.org/3/library/stdtypes.html#text-sequence-type-str)"
      ]
    },
    {
      "cell_type": "markdown",
      "metadata": {
        "id": "5uufAem43HSj"
      },
      "source": [
        "Sequence of characters enclosed by single (') or double (\") quotes:\n",
        "\n",
        "- \"a 'quoted' word\",\n",
        "- \"Hello World\",\n",
        "- 'abc'\n",
        "\n",
        "A backslash (\\) at the end of line, will continue string on next line"
      ]
    },
    {
      "cell_type": "code",
      "execution_count": 2,
      "metadata": {
        "id": "65R1YQ7_3HSj"
      },
      "outputs": [],
      "source": [
        "my_string = 'Python is my favorite programming language!'"
      ]
    },
    {
      "cell_type": "code",
      "execution_count": 3,
      "metadata": {
        "id": "_Ua_7mrS3HSk",
        "outputId": "c19c6899-a65f-4584-f821-aefca4e8c312",
        "colab": {
          "base_uri": "https://localhost:8080/",
          "height": 35
        }
      },
      "outputs": [
        {
          "output_type": "execute_result",
          "data": {
            "text/plain": [
              "'Python is my favorite programming language!'"
            ],
            "application/vnd.google.colaboratory.intrinsic+json": {
              "type": "string"
            }
          },
          "metadata": {},
          "execution_count": 3
        }
      ],
      "source": [
        "my_string"
      ]
    },
    {
      "cell_type": "code",
      "execution_count": 4,
      "metadata": {
        "id": "q0MYCX1S3HSk",
        "outputId": "abc78b12-c015-41b6-decd-9cf56326bc88",
        "colab": {
          "base_uri": "https://localhost:8080/"
        }
      },
      "outputs": [
        {
          "output_type": "execute_result",
          "data": {
            "text/plain": [
              "str"
            ]
          },
          "metadata": {},
          "execution_count": 4
        }
      ],
      "source": [
        "type(my_string)"
      ]
    },
    {
      "cell_type": "code",
      "execution_count": 5,
      "metadata": {
        "id": "5ClvriqW3HSl",
        "outputId": "3b4a3f4b-d541-4949-d50d-9b268bac31da",
        "colab": {
          "base_uri": "https://localhost:8080/"
        }
      },
      "outputs": [
        {
          "output_type": "execute_result",
          "data": {
            "text/plain": [
              "43"
            ]
          },
          "metadata": {},
          "execution_count": 5
        }
      ],
      "source": [
        "len(my_string)"
      ]
    },
    {
      "cell_type": "code",
      "execution_count": 6,
      "metadata": {
        "id": "TgUnynSr3HSl",
        "outputId": "22756cbc-a3f8-4f87-9c83-68a4eac4db77",
        "colab": {
          "base_uri": "https://localhost:8080/"
        }
      },
      "outputs": [
        {
          "output_type": "execute_result",
          "data": {
            "text/plain": [
              "137625840318672"
            ]
          },
          "metadata": {},
          "execution_count": 6
        }
      ],
      "source": [
        "id(my_string)"
      ]
    },
    {
      "cell_type": "markdown",
      "metadata": {
        "id": "6IuZxZg23HSl"
      },
      "source": [
        "### Respecting [PEP8](https://www.python.org/dev/peps/pep-0008/#maximum-line-length) with long strings"
      ]
    },
    {
      "cell_type": "code",
      "execution_count": 7,
      "metadata": {
        "id": "1XPZVhkq3HSl",
        "outputId": "78a64a54-e669-4e50-8e76-af9e2b679ebf",
        "colab": {
          "base_uri": "https://localhost:8080/",
          "height": 53
        }
      },
      "outputs": [
        {
          "output_type": "execute_result",
          "data": {
            "text/plain": [
              "'Lorem ipsum dolor sit amet, consectetur adipiscing elit. Pellentesque eget tincidunt felis. Ut ac vestibulum est. In sed ipsum sit amet sapien scelerisque bibendum. Sed sagittis purus eu diam fermentum pellentesque.'"
            ],
            "application/vnd.google.colaboratory.intrinsic+json": {
              "type": "string"
            }
          },
          "metadata": {},
          "execution_count": 7
        }
      ],
      "source": [
        "long_story = ('Lorem ipsum dolor sit amet, consectetur adipiscing elit. '\n",
        "              'Pellentesque eget tincidunt felis. Ut ac vestibulum est. '\n",
        "              'In sed ipsum sit amet sapien scelerisque bibendum. Sed '\n",
        "              'sagittis purus eu diam fermentum pellentesque.')\n",
        "long_story"
      ]
    },
    {
      "cell_type": "code",
      "execution_count": 8,
      "metadata": {
        "id": "PxZ1ZuC03HSm",
        "outputId": "4ea3dae7-e5b1-4889-b0fb-b99c75a4e6f5",
        "colab": {
          "base_uri": "https://localhost:8080/",
          "height": 53
        }
      },
      "outputs": [
        {
          "output_type": "execute_result",
          "data": {
            "text/plain": [
              "'Lorem ipsum dolor sit amet, consectetur adipiscing elit. Pellentesque eget tincidunt felis. Ut ac vestibulum est. In sed ipsum sit amet sapien scelerisque bibendum. Sed sagittis purus eu diam fermentum pellentesque.'"
            ],
            "application/vnd.google.colaboratory.intrinsic+json": {
              "type": "string"
            }
          },
          "metadata": {},
          "execution_count": 8
        }
      ],
      "source": [
        "long_story = ('Lorem ipsum dolor sit amet, consectetur adipiscing elit. \\\n",
        "Pellentesque eget tincidunt felis. Ut ac vestibulum est. \\\n",
        "In sed ipsum sit amet sapien scelerisque bibendum. Sed \\\n",
        "sagittis purus eu diam fermentum pellentesque.')\n",
        "long_story"
      ]
    },
    {
      "cell_type": "markdown",
      "metadata": {
        "id": "f2_qVO9w3HSm"
      },
      "source": [
        "## `str.replace()`"
      ]
    },
    {
      "cell_type": "markdown",
      "metadata": {
        "id": "q5wYTj5A3HSm"
      },
      "source": [
        "If you don't know how it works, you can always check the `help`:"
      ]
    },
    {
      "cell_type": "code",
      "execution_count": 9,
      "metadata": {
        "id": "8W4Z45uW3HSm",
        "outputId": "e3a52e20-2129-4872-f92f-15a44e2b9ace",
        "colab": {
          "base_uri": "https://localhost:8080/"
        }
      },
      "outputs": [
        {
          "output_type": "stream",
          "name": "stdout",
          "text": [
            "Help on method_descriptor:\n",
            "\n",
            "replace(self, old, new, count=-1, /) unbound builtins.str method\n",
            "    Return a copy with all occurrences of substring old replaced by new.\n",
            "    \n",
            "      count\n",
            "        Maximum number of occurrences to replace.\n",
            "        -1 (the default value) means replace all occurrences.\n",
            "    \n",
            "    If the optional argument count is given, only the first count occurrences are\n",
            "    replaced.\n",
            "\n"
          ]
        }
      ],
      "source": [
        "help(str.replace)"
      ]
    },
    {
      "cell_type": "markdown",
      "metadata": {
        "id": "BoYXBQVa3HSm"
      },
      "source": [
        "This will not modify `my_string` because replace is not done in-place."
      ]
    },
    {
      "cell_type": "code",
      "execution_count": 11,
      "metadata": {
        "id": "7KpHG03n3HSm",
        "outputId": "24125284-62c4-4253-b575-b661f218fbc4",
        "colab": {
          "base_uri": "https://localhost:8080/"
        }
      },
      "outputs": [
        {
          "output_type": "stream",
          "name": "stdout",
          "text": [
            "Python is my favorite programming language!\n"
          ]
        }
      ],
      "source": [
        "my_string.replace('a', '?')\n",
        "print(my_string)"
      ]
    },
    {
      "cell_type": "code",
      "execution_count": 12,
      "metadata": {
        "id": "IrMfRKUv3HSn",
        "outputId": "d740c8f2-db50-4c80-c75b-1ebd7cf60e52",
        "colab": {
          "base_uri": "https://localhost:8080/",
          "height": 35
        }
      },
      "outputs": [
        {
          "output_type": "execute_result",
          "data": {
            "text/plain": [
              "'Python is my f?vorite progr?mming l?ngu?ge!'"
            ],
            "application/vnd.google.colaboratory.intrinsic+json": {
              "type": "string"
            }
          },
          "metadata": {},
          "execution_count": 12
        }
      ],
      "source": [
        "my_string.replace('a', '?')"
      ]
    },
    {
      "cell_type": "markdown",
      "metadata": {
        "id": "IVuogm8L3HSn"
      },
      "source": [
        "You have to store the return value of `replace` instead."
      ]
    },
    {
      "cell_type": "code",
      "execution_count": 13,
      "metadata": {
        "id": "52qwb4zv3HSn",
        "outputId": "5b16357f-8cf0-4339-8eb4-4ad6ee42632a",
        "colab": {
          "base_uri": "https://localhost:8080/"
        }
      },
      "outputs": [
        {
          "output_type": "stream",
          "name": "stdout",
          "text": [
            "Python will be my favorite programming language!\n"
          ]
        }
      ],
      "source": [
        "my_modified_string = my_string.replace('is', 'will be')\n",
        "print(my_modified_string)"
      ]
    },
    {
      "cell_type": "markdown",
      "metadata": {
        "id": "ZZwrRtEM3HSn"
      },
      "source": [
        "## `str.format()`"
      ]
    },
    {
      "cell_type": "code",
      "execution_count": 14,
      "metadata": {
        "id": "qxWVG1nF3HSn",
        "outputId": "f9f75f3c-3c02-4929-99ed-940d8e45dafb",
        "colab": {
          "base_uri": "https://localhost:8080/"
        }
      },
      "outputs": [
        {
          "output_type": "stream",
          "name": "stdout",
          "text": [
            "Python is cool\n"
          ]
        }
      ],
      "source": [
        "#secret = '{} is cool'.format('Python')\n",
        "lang = 'Python'\n",
        "secret = f'{lang} is cool'\n",
        "print(secret)"
      ]
    },
    {
      "cell_type": "code",
      "execution_count": 15,
      "metadata": {
        "id": "-CtwQVXx3HSn",
        "outputId": "a18783e5-e70c-48bc-f8d3-7083cd20b9b2",
        "colab": {
          "base_uri": "https://localhost:8080/"
        }
      },
      "outputs": [
        {
          "output_type": "stream",
          "name": "stdout",
          "text": [
            "My name is Doe John, you can call me John.\n",
            "My name is John Doe, you can call me John.\n"
          ]
        }
      ],
      "source": [
        "print('My name is {1} {0}, you can call me {2}.'.format('John', 'Doe', 'John'))\n",
        "# is the same as:\n",
        "print('My name is {first} {family}, you can call me {first}.'.format(first='John', family='Doe'))"
      ]
    },
    {
      "cell_type": "markdown",
      "metadata": {
        "id": "JE3P-voR3HSn"
      },
      "source": [
        "## `str.join()`"
      ]
    },
    {
      "cell_type": "code",
      "execution_count": 17,
      "metadata": {
        "id": "KakPHRf_3HSn"
      },
      "outputs": [],
      "source": [
        "pandas = 'pandas'\n",
        "numpy = 'numpy'\n",
        "requests = 'requests'\n",
        "cool_python_libs = ', '.join([pandas, numpy, requests])"
      ]
    },
    {
      "cell_type": "code",
      "execution_count": 18,
      "metadata": {
        "id": "0G_9LBS63HSn",
        "outputId": "50045af4-a1de-4067-e064-49a0b139da7c",
        "colab": {
          "base_uri": "https://localhost:8080/"
        }
      },
      "outputs": [
        {
          "output_type": "stream",
          "name": "stdout",
          "text": [
            "Some cool python libraries: pandas, numpy, requests\n"
          ]
        }
      ],
      "source": [
        "print('Some cool python libraries: {}'.format(cool_python_libs))"
      ]
    },
    {
      "cell_type": "markdown",
      "metadata": {
        "id": "IyGzjfXc3HSn"
      },
      "source": [
        "Alternatives (not as [Pythonic](http://docs.python-guide.org/en/latest/writing/style/#idioms) and [slower](https://waymoot.org/home/python_string/)):"
      ]
    },
    {
      "cell_type": "code",
      "execution_count": 20,
      "metadata": {
        "id": "kOwBdG-E3HSn",
        "outputId": "8db3b523-3bb6-4c05-9cf0-4904cd06c8fc",
        "colab": {
          "base_uri": "https://localhost:8080/"
        }
      },
      "outputs": [
        {
          "output_type": "stream",
          "name": "stdout",
          "text": [
            "Some cool python libraries: pandas, numpy, requests\n",
            "Some cool python libraries: pandas, numpy, requests\n"
          ]
        }
      ],
      "source": [
        "cool_python_libs = pandas + ', ' + numpy + ', ' + requests\n",
        "print('Some cool python libraries: {}'.format(cool_python_libs))\n",
        "\n",
        "cool_python_libs = pandas\n",
        "cool_python_libs += ', ' + numpy\n",
        "cool_python_libs += ', ' + requests\n",
        "print('Some cool python libraries: {}'.format(cool_python_libs))"
      ]
    },
    {
      "cell_type": "markdown",
      "metadata": {
        "id": "uRaMmglR3HSn"
      },
      "source": [
        "## `str.upper(), str.lower(), str.title()`"
      ]
    },
    {
      "cell_type": "code",
      "execution_count": 22,
      "metadata": {
        "id": "6vhwy-sk3HSn"
      },
      "outputs": [],
      "source": [
        "mixed_case = 'PyTHoN hackER'"
      ]
    },
    {
      "cell_type": "code",
      "execution_count": 23,
      "metadata": {
        "id": "kBxvohjA3HSn",
        "outputId": "afe93b58-0cbb-4d9e-ee8a-61d0e9113c62",
        "colab": {
          "base_uri": "https://localhost:8080/",
          "height": 35
        }
      },
      "outputs": [
        {
          "output_type": "execute_result",
          "data": {
            "text/plain": [
              "'PYTHON HACKER'"
            ],
            "application/vnd.google.colaboratory.intrinsic+json": {
              "type": "string"
            }
          },
          "metadata": {},
          "execution_count": 23
        }
      ],
      "source": [
        "mixed_case.upper()"
      ]
    },
    {
      "cell_type": "code",
      "execution_count": 24,
      "metadata": {
        "id": "acb4Ehg63HSo",
        "outputId": "c9bb0621-35fb-4b6a-8531-2ec9901fd2b2",
        "colab": {
          "base_uri": "https://localhost:8080/",
          "height": 35
        }
      },
      "outputs": [
        {
          "output_type": "execute_result",
          "data": {
            "text/plain": [
              "'python hacker'"
            ],
            "application/vnd.google.colaboratory.intrinsic+json": {
              "type": "string"
            }
          },
          "metadata": {},
          "execution_count": 24
        }
      ],
      "source": [
        "mixed_case.lower()"
      ]
    },
    {
      "cell_type": "code",
      "execution_count": 25,
      "metadata": {
        "id": "g6_kv9aU3HSo",
        "outputId": "53146cab-c15a-43fe-ecb1-872dac5f1fb8",
        "colab": {
          "base_uri": "https://localhost:8080/",
          "height": 35
        }
      },
      "outputs": [
        {
          "output_type": "execute_result",
          "data": {
            "text/plain": [
              "'Python Hacker'"
            ],
            "application/vnd.google.colaboratory.intrinsic+json": {
              "type": "string"
            }
          },
          "metadata": {},
          "execution_count": 25
        }
      ],
      "source": [
        "mixed_case.title()"
      ]
    },
    {
      "cell_type": "markdown",
      "metadata": {
        "id": "00BueEHN3HSo"
      },
      "source": [
        "## `str.strip()`"
      ]
    },
    {
      "cell_type": "code",
      "execution_count": 26,
      "metadata": {
        "id": "eq20MJWK3HSo",
        "outputId": "12c8a071-e992-4975-ac5b-c3392b13e3cb",
        "colab": {
          "base_uri": "https://localhost:8080/"
        }
      },
      "outputs": [
        {
          "output_type": "stream",
          "name": "stdout",
          "text": [
            "ugly:  \n",
            " \t Some story to tell \n",
            "stripped: Some story to tell\n"
          ]
        }
      ],
      "source": [
        "ugly_formatted = ' \\n \\t Some story to tell '\n",
        "stripped = ugly_formatted.strip()\n",
        "\n",
        "print('ugly: {}'.format(ugly_formatted))\n",
        "print('stripped: {}'.format(ugly_formatted.strip()))"
      ]
    },
    {
      "cell_type": "markdown",
      "metadata": {
        "id": "mNw2apMS3HSo"
      },
      "source": [
        "## `str.split()`"
      ]
    },
    {
      "cell_type": "code",
      "execution_count": 27,
      "metadata": {
        "id": "8WceyNS-3HSo",
        "outputId": "8e69393c-ffb3-49f3-b42b-442e167c8761",
        "colab": {
          "base_uri": "https://localhost:8080/"
        }
      },
      "outputs": [
        {
          "output_type": "stream",
          "name": "stdout",
          "text": [
            "['three', 'different', 'words']\n"
          ]
        }
      ],
      "source": [
        "sentence = 'three different words'\n",
        "words = sentence.split()\n",
        "print(words)"
      ]
    },
    {
      "cell_type": "code",
      "execution_count": 28,
      "metadata": {
        "id": "_kJ0bL1J3HSo",
        "outputId": "3e4664f3-c8bb-4fd9-e3be-b094613534b7",
        "colab": {
          "base_uri": "https://localhost:8080/"
        }
      },
      "outputs": [
        {
          "output_type": "execute_result",
          "data": {
            "text/plain": [
              "list"
            ]
          },
          "metadata": {},
          "execution_count": 28
        }
      ],
      "source": [
        "type(words)"
      ]
    },
    {
      "cell_type": "code",
      "execution_count": null,
      "metadata": {
        "id": "VEFFM9x03HSo"
      },
      "outputs": [],
      "source": [
        "secret_binary_data = '01001,101101,11100000'\n",
        "binaries = secret_binary_data.split(',')\n",
        "print(binaries)"
      ]
    },
    {
      "cell_type": "markdown",
      "metadata": {
        "id": "9tEmSszR3HSo"
      },
      "source": [
        "## Calling multiple methods in a row"
      ]
    },
    {
      "cell_type": "code",
      "execution_count": null,
      "metadata": {
        "id": "HObHFVM83HSo"
      },
      "outputs": [],
      "source": [
        "ugly_mixed_case = '   ThIS LooKs BAd '\n",
        "pretty = ugly_mixed_case.strip().lower().replace('bad', 'good')\n",
        "print(pretty)"
      ]
    },
    {
      "cell_type": "markdown",
      "metadata": {
        "id": "zZyCvVxc3HSt"
      },
      "source": [
        "Note that execution order is from left to right. Thus, this won't work:"
      ]
    },
    {
      "cell_type": "code",
      "execution_count": null,
      "metadata": {
        "id": "W4_CLsuF3HSt"
      },
      "outputs": [],
      "source": [
        "pretty = ugly_mixed_case.replace('bad', 'good').strip().lower()\n",
        "print(pretty)"
      ]
    },
    {
      "cell_type": "markdown",
      "metadata": {
        "id": "4N7vFVTK3HSt"
      },
      "source": [
        "## [Escape characters](http://python-reference.readthedocs.io/en/latest/docs/str/escapes.html#escape-characters)"
      ]
    },
    {
      "cell_type": "code",
      "execution_count": null,
      "metadata": {
        "id": "FBxPXOwM3HSt"
      },
      "outputs": [],
      "source": [
        "two_lines = 'First line\\nSecond line'\n",
        "print(two_lines)"
      ]
    },
    {
      "cell_type": "code",
      "execution_count": null,
      "metadata": {
        "id": "XJQklfhY3HSt"
      },
      "outputs": [],
      "source": [
        "indented = '\\tThis will be indented'\n",
        "print(indented)"
      ]
    },
    {
      "cell_type": "markdown",
      "metadata": {
        "id": "kskFkPye3HSt"
      },
      "source": [
        "## Immutability\n",
        "\n",
        "Strings are immutable."
      ]
    },
    {
      "cell_type": "code",
      "execution_count": null,
      "metadata": {
        "id": "vIMBCs-S3HSu"
      },
      "outputs": [],
      "source": [
        "S = \"Spam\"\n",
        "S[0] = \"z\" # immutable items cannot be changed"
      ]
    },
    {
      "cell_type": "markdown",
      "metadata": {
        "id": "BkGm64RE3HSu"
      },
      "source": [
        "\n",
        "\n",
        "return to [overview](../00_overview.ipynb)"
      ]
    }
  ],
  "metadata": {
    "kernelspec": {
      "display_name": "Python 3 (ipykernel)",
      "language": "python",
      "name": "python3"
    },
    "language_info": {
      "codemirror_mode": {
        "name": "ipython",
        "version": 3
      },
      "file_extension": ".py",
      "mimetype": "text/x-python",
      "name": "python",
      "nbconvert_exporter": "python",
      "pygments_lexer": "ipython3",
      "version": "3.10.12"
    },
    "colab": {
      "provenance": []
    }
  },
  "nbformat": 4,
  "nbformat_minor": 0
}